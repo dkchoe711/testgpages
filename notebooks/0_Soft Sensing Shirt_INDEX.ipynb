{
 "cells": [
  {
   "cell_type": "markdown",
   "metadata": {},
   "source": [
    "## Shoulder Angle Estimation with Soft Sensing Shirt\n",
    "**AC209a Final Project**<br/>\n",
    "**Fall 2018**<br/>\n",
    "**Group # 50:** Dabin Choe, Yichu Jin, Evelyn Park"
   ]
  },
  {
   "cell_type": "markdown",
   "metadata": {},
   "source": [
    "**Overview:**\n",
    "\n",
    "Musculoskeletal disorders (MSDs) are the most frequent cause of nonfatal occupational injuries and illnesses. Right after the hand, the shoulder is the second most frequently injured upper extremity and when injured, demands the most time away from work compared to all other body parts. There is epidemiologic evidence of shoulder MSDs being caused by repetitive work and non-neutral postures. Specifically, repetitive or prolonged overhead work, defined as working with a hand above the head, has been shown to be a significant risk factor of shoulder MSDs. Therefore, there is a need for continuing monitoring of upper arm postures and shoulder movement in industrial workplaces to assess postural hazards of shoulder MSDs.\n",
    "\n",
    "\n",
    "**Motivation:**\n",
    "The Harvard Biodesign Lab designed and built a soft sensing shirt that is capable of monitoring the user’s shoulder positions in a conformal, transparent, and comfortable manner. The sensing shirt contains six soft strain sensors around the user’s shoulder joint. The sensors measure the amounts of stretch experienced by the shirt, which can be used to estimate the user’s shoulder position. \n",
    "\n",
    "<img src=\"img\\sensing_shirt.png\" width=\"400\">\n"
   ]
  },
  {
   "cell_type": "markdown",
   "metadata": {},
   "source": [
    "**Problem Statement:**\n",
    "\n",
    "Is there a way to predict the position of the shoulder using only the sensor readings from the six embedded sensors in the shirt? \n",
    "\n",
    "1. To predict three shoulder motion angles (adduction/abduction, horizontal flexion/extension, and internal/external rotation) using the sensor outputs.\n",
    "2. To evaluate the model’s accuracy and precision using data from different human subjects.\n"
   ]
  },
  {
   "cell_type": "code",
   "execution_count": null,
   "metadata": {},
   "outputs": [],
   "source": []
  }
 ],
 "metadata": {
  "kernelspec": {
   "display_name": "Python 3",
   "language": "python",
   "name": "python3"
  },
  "language_info": {
   "codemirror_mode": {
    "name": "ipython",
    "version": 3
   },
   "file_extension": ".py",
   "mimetype": "text/x-python",
   "name": "python",
   "nbconvert_exporter": "python",
   "pygments_lexer": "ipython3",
   "version": "3.7.0"
  }
 },
 "nbformat": 4,
 "nbformat_minor": 2
}
